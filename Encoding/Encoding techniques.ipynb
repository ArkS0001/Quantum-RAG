{
  "nbformat": 4,
  "nbformat_minor": 0,
  "metadata": {
    "colab": {
      "provenance": []
    },
    "kernelspec": {
      "name": "python3",
      "display_name": "Python 3"
    },
    "language_info": {
      "name": "python"
    }
  },
  "cells": [
    {
      "cell_type": "code",
      "execution_count": 9,
      "metadata": {
        "colab": {
          "base_uri": "https://localhost:8080/",
          "height": 1000
        },
        "id": "EjoBHTSau89v",
        "outputId": "2339496f-905d-45dd-85c6-761319d3bbfa"
      },
      "outputs": [
        {
          "output_type": "stream",
          "name": "stdout",
          "text": [
            "Requirement already satisfied: qiskit in /usr/local/lib/python3.11/dist-packages (0.46.0)\n",
            "Requirement already satisfied: qiskit_aer in /usr/local/lib/python3.11/dist-packages (0.14.2)\n",
            "Collecting qiskit-ibm-runtime\n",
            "  Downloading qiskit_ibm_runtime-0.36.1-py3-none-any.whl.metadata (20 kB)\n",
            "Requirement already satisfied: qiskit-terra==0.46.0 in /usr/local/lib/python3.11/dist-packages (from qiskit) (0.46.0)\n",
            "Requirement already satisfied: rustworkx>=0.13.0 in /usr/local/lib/python3.11/dist-packages (from qiskit-terra==0.46.0->qiskit) (0.16.0)\n",
            "Requirement already satisfied: numpy<2,>=1.17 in /usr/local/lib/python3.11/dist-packages (from qiskit-terra==0.46.0->qiskit) (1.26.4)\n",
            "Requirement already satisfied: ply>=3.10 in /usr/local/lib/python3.11/dist-packages (from qiskit-terra==0.46.0->qiskit) (3.11)\n",
            "Requirement already satisfied: psutil>=5 in /usr/local/lib/python3.11/dist-packages (from qiskit-terra==0.46.0->qiskit) (5.9.5)\n",
            "Requirement already satisfied: scipy>=1.5 in /usr/local/lib/python3.11/dist-packages (from qiskit-terra==0.46.0->qiskit) (1.13.1)\n",
            "Requirement already satisfied: sympy>=1.3 in /usr/local/lib/python3.11/dist-packages (from qiskit-terra==0.46.0->qiskit) (1.13.1)\n",
            "Requirement already satisfied: dill>=0.3 in /usr/local/lib/python3.11/dist-packages (from qiskit-terra==0.46.0->qiskit) (0.3.9)\n",
            "Requirement already satisfied: python-dateutil>=2.8.0 in /usr/local/lib/python3.11/dist-packages (from qiskit-terra==0.46.0->qiskit) (2.8.2)\n",
            "Requirement already satisfied: stevedore>=3.0.0 in /usr/local/lib/python3.11/dist-packages (from qiskit-terra==0.46.0->qiskit) (5.4.1)\n",
            "Requirement already satisfied: symengine>=0.11 in /usr/local/lib/python3.11/dist-packages (from qiskit-terra==0.46.0->qiskit) (0.13.0)\n",
            "Requirement already satisfied: requests>=2.19 in /usr/local/lib/python3.11/dist-packages (from qiskit-ibm-runtime) (2.32.3)\n",
            "Collecting requests-ntlm>=1.1.0 (from qiskit-ibm-runtime)\n",
            "  Downloading requests_ntlm-1.3.0-py3-none-any.whl.metadata (2.4 kB)\n",
            "Requirement already satisfied: urllib3>=1.21.1 in /usr/local/lib/python3.11/dist-packages (from qiskit-ibm-runtime) (2.3.0)\n",
            "Requirement already satisfied: websocket-client>=1.5.1 in /usr/local/lib/python3.11/dist-packages (from qiskit-ibm-runtime) (1.8.0)\n",
            "Collecting ibm-platform-services>=0.22.6 (from qiskit-ibm-runtime)\n",
            "  Downloading ibm_platform_services-0.61.0-py3-none-any.whl.metadata (9.0 kB)\n",
            "Collecting pydantic<2.10,>=2.5.0 (from qiskit-ibm-runtime)\n",
            "  Downloading pydantic-2.9.2-py3-none-any.whl.metadata (149 kB)\n",
            "\u001b[2K     \u001b[90m━━━━━━━━━━━━━━━━━━━━━━━━━━━━━━━━━━━━━━━━\u001b[0m \u001b[32m149.4/149.4 kB\u001b[0m \u001b[31m4.3 MB/s\u001b[0m eta \u001b[36m0:00:00\u001b[0m\n",
            "\u001b[?25hCollecting qiskit\n",
            "  Using cached qiskit-1.4.1-cp39-abi3-manylinux_2_17_x86_64.manylinux2014_x86_64.whl.metadata (12 kB)\n",
            "Requirement already satisfied: typing-extensions in /usr/local/lib/python3.11/dist-packages (from qiskit) (4.12.2)\n",
            "INFO: pip is looking at multiple versions of qiskit[visualization] to determine which version is compatible with other requirements. This could take a while.\n",
            "Requirement already satisfied: matplotlib>=3.3 in /usr/local/lib/python3.11/dist-packages (from qiskit[visualization]) (3.10.0)\n",
            "Requirement already satisfied: pydot in /usr/local/lib/python3.11/dist-packages (from qiskit[visualization]) (3.0.4)\n",
            "Requirement already satisfied: Pillow>=4.2.1 in /usr/local/lib/python3.11/dist-packages (from qiskit[visualization]) (11.1.0)\n",
            "Collecting pylatexenc>=1.4 (from qiskit[visualization])\n",
            "  Downloading pylatexenc-2.10.tar.gz (162 kB)\n",
            "\u001b[2K     \u001b[90m━━━━━━━━━━━━━━━━━━━━━━━━━━━━━━━━━━━━━━━━\u001b[0m \u001b[32m162.6/162.6 kB\u001b[0m \u001b[31m14.7 MB/s\u001b[0m eta \u001b[36m0:00:00\u001b[0m\n",
            "\u001b[?25h  Preparing metadata (setup.py) ... \u001b[?25l\u001b[?25hdone\n",
            "Requirement already satisfied: seaborn>=0.9.0 in /usr/local/lib/python3.11/dist-packages (from qiskit[visualization]) (0.13.2)\n",
            "Collecting ibm_cloud_sdk_core<4.0.0,>=3.22.1 (from ibm-platform-services>=0.22.6->qiskit-ibm-runtime)\n",
            "  Downloading ibm_cloud_sdk_core-3.22.1-py3-none-any.whl.metadata (8.6 kB)\n",
            "Requirement already satisfied: contourpy>=1.0.1 in /usr/local/lib/python3.11/dist-packages (from matplotlib>=3.3->qiskit[visualization]) (1.3.1)\n",
            "Requirement already satisfied: cycler>=0.10 in /usr/local/lib/python3.11/dist-packages (from matplotlib>=3.3->qiskit[visualization]) (0.12.1)\n",
            "Requirement already satisfied: fonttools>=4.22.0 in /usr/local/lib/python3.11/dist-packages (from matplotlib>=3.3->qiskit[visualization]) (4.56.0)\n",
            "Requirement already satisfied: kiwisolver>=1.3.1 in /usr/local/lib/python3.11/dist-packages (from matplotlib>=3.3->qiskit[visualization]) (1.4.8)\n",
            "Requirement already satisfied: packaging>=20.0 in /usr/local/lib/python3.11/dist-packages (from matplotlib>=3.3->qiskit[visualization]) (24.2)\n",
            "Requirement already satisfied: pyparsing>=2.3.1 in /usr/local/lib/python3.11/dist-packages (from matplotlib>=3.3->qiskit[visualization]) (3.2.1)\n",
            "Requirement already satisfied: annotated-types>=0.6.0 in /usr/local/lib/python3.11/dist-packages (from pydantic<2.10,>=2.5.0->qiskit-ibm-runtime) (0.7.0)\n",
            "Collecting pydantic-core==2.23.4 (from pydantic<2.10,>=2.5.0->qiskit-ibm-runtime)\n",
            "  Downloading pydantic_core-2.23.4-cp311-cp311-manylinux_2_17_x86_64.manylinux2014_x86_64.whl.metadata (6.6 kB)\n",
            "Requirement already satisfied: six>=1.5 in /usr/local/lib/python3.11/dist-packages (from python-dateutil>=2.8.0->qiskit-terra==0.46.0->qiskit) (1.17.0)\n",
            "Requirement already satisfied: charset-normalizer<4,>=2 in /usr/local/lib/python3.11/dist-packages (from requests>=2.19->qiskit-ibm-runtime) (3.4.1)\n",
            "Requirement already satisfied: idna<4,>=2.5 in /usr/local/lib/python3.11/dist-packages (from requests>=2.19->qiskit-ibm-runtime) (3.10)\n",
            "Requirement already satisfied: certifi>=2017.4.17 in /usr/local/lib/python3.11/dist-packages (from requests>=2.19->qiskit-ibm-runtime) (2025.1.31)\n",
            "Requirement already satisfied: cryptography>=1.3 in /usr/local/lib/python3.11/dist-packages (from requests-ntlm>=1.1.0->qiskit-ibm-runtime) (43.0.3)\n",
            "Collecting pyspnego>=0.4.0 (from requests-ntlm>=1.1.0->qiskit-ibm-runtime)\n",
            "  Downloading pyspnego-0.11.2-py3-none-any.whl.metadata (5.4 kB)\n",
            "Requirement already satisfied: pandas>=1.2 in /usr/local/lib/python3.11/dist-packages (from seaborn>=0.9.0->qiskit[visualization]) (2.2.2)\n",
            "Requirement already satisfied: pbr>=2.0.0 in /usr/local/lib/python3.11/dist-packages (from stevedore>=3.0.0->qiskit-terra==0.46.0->qiskit) (6.1.1)\n",
            "Requirement already satisfied: mpmath<1.4,>=1.1.0 in /usr/local/lib/python3.11/dist-packages (from sympy>=1.3->qiskit-terra==0.46.0->qiskit) (1.3.0)\n",
            "Requirement already satisfied: cffi>=1.12 in /usr/local/lib/python3.11/dist-packages (from cryptography>=1.3->requests-ntlm>=1.1.0->qiskit-ibm-runtime) (1.17.1)\n",
            "Requirement already satisfied: PyJWT<3.0.0,>=2.8.0 in /usr/local/lib/python3.11/dist-packages (from ibm_cloud_sdk_core<4.0.0,>=3.22.1->ibm-platform-services>=0.22.6->qiskit-ibm-runtime) (2.10.1)\n",
            "Requirement already satisfied: pytz>=2020.1 in /usr/local/lib/python3.11/dist-packages (from pandas>=1.2->seaborn>=0.9.0->qiskit[visualization]) (2025.1)\n",
            "Requirement already satisfied: tzdata>=2022.7 in /usr/local/lib/python3.11/dist-packages (from pandas>=1.2->seaborn>=0.9.0->qiskit[visualization]) (2025.1)\n",
            "Requirement already satisfied: setuptools in /usr/local/lib/python3.11/dist-packages (from pbr>=2.0.0->stevedore>=3.0.0->qiskit-terra==0.46.0->qiskit) (75.1.0)\n",
            "Requirement already satisfied: pycparser in /usr/local/lib/python3.11/dist-packages (from cffi>=1.12->cryptography>=1.3->requests-ntlm>=1.1.0->qiskit-ibm-runtime) (2.22)\n",
            "Downloading qiskit_ibm_runtime-0.36.1-py3-none-any.whl (3.1 MB)\n",
            "\u001b[2K   \u001b[90m━━━━━━━━━━━━━━━━━━━━━━━━━━━━━━━━━━━━━━━━\u001b[0m \u001b[32m3.1/3.1 MB\u001b[0m \u001b[31m46.4 MB/s\u001b[0m eta \u001b[36m0:00:00\u001b[0m\n",
            "\u001b[?25hUsing cached qiskit-1.4.1-cp39-abi3-manylinux_2_17_x86_64.manylinux2014_x86_64.whl (6.7 MB)\n",
            "Downloading ibm_platform_services-0.61.0-py3-none-any.whl (343 kB)\n",
            "\u001b[2K   \u001b[90m━━━━━━━━━━━━━━━━━━━━━━━━━━━━━━━━━━━━━━━━\u001b[0m \u001b[32m343.3/343.3 kB\u001b[0m \u001b[31m31.3 MB/s\u001b[0m eta \u001b[36m0:00:00\u001b[0m\n",
            "\u001b[?25hDownloading pydantic-2.9.2-py3-none-any.whl (434 kB)\n",
            "\u001b[2K   \u001b[90m━━━━━━━━━━━━━━━━━━━━━━━━━━━━━━━━━━━━━━━━\u001b[0m \u001b[32m434.9/434.9 kB\u001b[0m \u001b[31m33.2 MB/s\u001b[0m eta \u001b[36m0:00:00\u001b[0m\n",
            "\u001b[?25hDownloading pydantic_core-2.23.4-cp311-cp311-manylinux_2_17_x86_64.manylinux2014_x86_64.whl (2.1 MB)\n",
            "\u001b[2K   \u001b[90m━━━━━━━━━━━━━━━━━━━━━━━━━━━━━━━━━━━━━━━━\u001b[0m \u001b[32m2.1/2.1 MB\u001b[0m \u001b[31m56.8 MB/s\u001b[0m eta \u001b[36m0:00:00\u001b[0m\n",
            "\u001b[?25hDownloading requests_ntlm-1.3.0-py3-none-any.whl (6.6 kB)\n",
            "Downloading ibm_cloud_sdk_core-3.22.1-py3-none-any.whl (69 kB)\n",
            "\u001b[2K   \u001b[90m━━━━━━━━━━━━━━━━━━━━━━━━━━━━━━━━━━━━━━━━\u001b[0m \u001b[32m69.4/69.4 kB\u001b[0m \u001b[31m6.3 MB/s\u001b[0m eta \u001b[36m0:00:00\u001b[0m\n",
            "\u001b[?25hDownloading pyspnego-0.11.2-py3-none-any.whl (130 kB)\n",
            "\u001b[2K   \u001b[90m━━━━━━━━━━━━━━━━━━━━━━━━━━━━━━━━━━━━━━━━\u001b[0m \u001b[32m130.5/130.5 kB\u001b[0m \u001b[31m12.7 MB/s\u001b[0m eta \u001b[36m0:00:00\u001b[0m\n",
            "\u001b[?25hBuilding wheels for collected packages: pylatexenc\n",
            "  Building wheel for pylatexenc (setup.py) ... \u001b[?25l\u001b[?25hdone\n",
            "  Created wheel for pylatexenc: filename=pylatexenc-2.10-py3-none-any.whl size=136816 sha256=62776805e2de08fa4d0e81901b6a1d048fa06be4dea5d191bf59bb66804ba3d5\n",
            "  Stored in directory: /root/.cache/pip/wheels/b1/7a/33/9fdd892f784ed4afda62b685ae3703adf4c91aa0f524c28f03\n",
            "Successfully built pylatexenc\n",
            "Installing collected packages: pylatexenc, pydantic-core, pydantic, ibm_cloud_sdk_core, qiskit, pyspnego, ibm-platform-services, requests-ntlm, qiskit-ibm-runtime\n",
            "  Attempting uninstall: pydantic-core\n",
            "    Found existing installation: pydantic_core 2.27.2\n",
            "    Uninstalling pydantic_core-2.27.2:\n",
            "      Successfully uninstalled pydantic_core-2.27.2\n",
            "  Attempting uninstall: pydantic\n",
            "    Found existing installation: pydantic 2.10.6\n",
            "    Uninstalling pydantic-2.10.6:\n",
            "      Successfully uninstalled pydantic-2.10.6\n",
            "  Attempting uninstall: qiskit\n",
            "    Found existing installation: qiskit 0.46.0\n",
            "    Uninstalling qiskit-0.46.0:\n",
            "      Successfully uninstalled qiskit-0.46.0\n",
            "Successfully installed ibm-platform-services-0.61.0 ibm_cloud_sdk_core-3.22.1 pydantic-2.9.2 pydantic-core-2.23.4 pylatexenc-2.10 pyspnego-0.11.2 qiskit-1.4.1 qiskit-ibm-runtime-0.36.1 requests-ntlm-1.3.0\n"
          ]
        },
        {
          "output_type": "display_data",
          "data": {
            "application/vnd.colab-display-data+json": {
              "pip_warning": {
                "packages": [
                  "qiskit"
                ]
              },
              "id": "8cc0fa880c444b549faf0b1a44814fa7"
            }
          },
          "metadata": {}
        }
      ],
      "source": [
        "pip install qiskit qiskit_aer qiskit-ibm-runtime qiskit[visualization]"
      ]
    },
    {
      "cell_type": "markdown",
      "source": [
        "# Hamiltonian Ansatz Encoding\n"
      ],
      "metadata": {
        "id": "yh3jpYaP4NG9"
      }
    },
    {
      "cell_type": "markdown",
      "source": [
        "Step-by-Step Process\n",
        "1. Feature Extraction\n",
        "Before encoding data into quantum states, you need to transform the classical data into a numerical format suitable for quantum circuits.\n",
        "Text:\n",
        "Preprocessing: Tokenize the text (split it into words), remove stop words (e.g., \"the,\" \"and\"), and normalize it (e.g., lowercase conversion).\n",
        "\n",
        "Numerical Representation: Convert the text into numerical vectors using techniques like:\n",
        "TF-IDF (Term Frequency-Inverse Document Frequency): Assign weights to words based on their frequency and importance across a dataset.\n",
        "\n",
        "Word Embeddings: Use methods like Word2Vec or GloVe to create dense vectors that capture semantic relationships between words.\n",
        "\n",
        "Output: A vector of numbers representing the text (e.g., [0.1, 0.5, 0.3, ...]).\n",
        "\n",
        "Images:\n",
        "Preprocessing: Convert the image into a manageable format. For example:\n",
        "Flatten a 2D image (e.g., a 28×28 pixel grayscale image) into a 1D vector (784 elements).\n",
        "\n",
        "Optionally, apply dimensionality reduction techniques like Principal Component Analysis (PCA) to reduce the vector size while retaining key features.\n",
        "\n",
        "Numerical Representation: Use pixel intensities (e.g., values from 0 to 255 for grayscale) normalized to a range like [0, 1].\n",
        "\n",
        "Output: A vector of pixel values (e.g., [0.2, 0.8, 0.1, ...]).\n",
        "\n",
        "Tables:\n",
        "Preprocessing: Extract data from the table, handling both numerical and categorical entries.\n",
        "For numerical data, use the values directly.\n",
        "\n",
        "For categorical data, apply one-hot encoding (e.g., \"Red\" → [1, 0, 0], \"Blue\" → [0, 1, 0]).\n",
        "\n",
        "Numerical Representation: Combine the data into vectors, potentially representing rows, columns, or the entire table as a flattened array.\n",
        "\n",
        "Output: A vector of numbers (e.g., [1.5, 2.0, 0, 1, ...]).\n",
        "\n",
        "2. Hamiltonian Ansatz Encoding\n",
        "The Hamiltonian ansatz maps these numerical features into a quantum state using a parameterized quantum circuit (PQC).\n",
        "Concept: The PQC consists of quantum gates (e.g., rotation gates like Rx(θ)R_x(\\theta)R_x(\\theta)\n",
        ", Ry(θ)R_y(\\theta)R_y(\\theta)\n",
        ", Rz(θ)R_z(\\theta)R_z(\\theta)\n",
        ") whose parameters (angles θ\\theta\\theta\n",
        ") are set based on the classical data. The circuit evolves an initial quantum state (e.g., ∣0⟩⊗n|0\\rangle^{\\otimes n}|0\\rangle^{\\otimes n}\n",
        ", where (n) is the number of qubits) into a new state that encodes the data.\n",
        "\n",
        "Process:\n",
        "Assign each feature in the vector to a parameter in the PQC. For example, if your text vector is [0.1, 0.5, 0.3], you might set θ1=0.1\\theta_1 = 0.1\\theta_1 = 0.1\n",
        ", θ2=0.5\\theta_2 = 0.5\\theta_2 = 0.5\n",
        ", θ3=0.3\\theta_3 = 0.3\\theta_3 = 0.3\n",
        " for three rotation gates.\n",
        "\n",
        "Use a layered structure: Apply single-qubit gates (parameterized by the features) followed by entangling gates (e.g., CNOT or CZ) to introduce correlations between qubits, enhancing the expressive power of the circuit.\n",
        "\n",
        "3. Quantum Circuit Implementation\n",
        "Implement the PQC using a quantum programming framework like Qiskit or PennyLane.\n",
        "Gates: Common choices include:\n",
        "Pauli Rotation Gates: Rx(θ)=e−iθX/2R_x(\\theta) = e^{-i\\theta X/2}R_x(\\theta) = e^{-i\\theta X/2}\n",
        ", Ry(θ)=e−iθY/2R_y(\\theta) = e^{-i\\theta Y/2}R_y(\\theta) = e^{-i\\theta Y/2}\n",
        ", Rz(θ)=e−iθZ/2R_z(\\theta) = e^{-i\\theta Z/2}R_z(\\theta) = e^{-i\\theta Z/2}\n",
        ", where (X), (Y), and (Z) are Pauli operators.\n",
        "\n",
        "Entangling Gates: CNOT or controlled-phase gates to entangle qubits.\n",
        "\n",
        "Example Circuit (for a 3-feature vector):\n",
        "\n",
        "4. Variational Optimization (Optional)\n",
        "For tasks like quantum machine learning, optimize the circuit parameters.\n",
        "Method: Use variational techniques (e.g., Variational Quantum Eigensolver or Quantum Approximate Optimization Algorithm) to adjust the parameters (θ\\theta\\theta\n",
        ") to minimize a cost function (e.g., classification error).\n",
        "\n",
        "Purpose: Ensure the quantum state accurately represents the data or performs well in a specific application.\n",
        "\n",
        "5. Execution\n",
        "Run the circuit to obtain the quantum state.\n",
        "Platform: Use a quantum simulator (e.g., Qiskit’s Aer) or real quantum hardware (e.g., IBM Quantum).\n",
        "\n",
        "Output: A quantum state (e.g., ∣ψ⟩=α∣000⟩+β∣001⟩+γ∣010⟩+…|\\psi\\rangle = \\alpha|000\\rangle + \\beta|001\\rangle + \\gamma|010\\rangle + \\dots|\\psi\\rangle = \\alpha|000\\rangle + \\beta|001\\rangle + \\gamma|010\\rangle + \\dots\n",
        ") encoding the classical data.\n",
        "\n",
        "How It Works for Each Data Type\n",
        "Text:\n",
        "A sentence like \"Quantum computing is cool\" might be converted to a TF-IDF vector [0.2, 0.4, 0.1, 0.3]. These values parameterize a PQC, producing a quantum state that captures the text’s features.\n",
        "\n",
        "Images:\n",
        "A 2×2 grayscale image with pixel values [100, 150, 200, 50] (normalized to [0.39, 0.59, 0.78, 0.20]) can be mapped to rotation angles, encoding the image into a 4-qubit state.\n",
        "\n",
        "Tables:\n",
        "A table row [1.5, \"Yes\", 3.0] might become [1.5, 1, 0, 3.0] (with \"Yes\" one-hot encoded). These values drive the PQC parameters, encoding the structured data.\n",
        "\n",
        "Benefits of Using Hamiltonian Ansatz\n",
        "Efficiency: It can encode complex data with fewer qubits compared to methods like basis encoding, leveraging quantum properties like superposition and entanglement.\n",
        "\n",
        "Flexibility: Suitable for variational algorithms, making it ideal for quantum machine learning tasks (e.g., classification, clustering).\n",
        "\n",
        "Parallelism: Quantum circuits can process multiple features simultaneously, potentially offering computational advantages.\n",
        "\n"
      ],
      "metadata": {
        "id": "C5D6uql42haz"
      }
    },
    {
      "cell_type": "code",
      "source": [
        "import numpy as np\n",
        "from qiskit import QuantumCircuit\n",
        "from qiskit.circuit import ParameterVector\n",
        "from qiskit_aer import AerSimulator\n",
        "\n",
        "# Step 1: Preprocess the text\n",
        "text = \"Quantum computing\"\n",
        "words = text.lower().split()  # Tokenize and lowercase\n",
        "unique_words = list(set(words))  # Get unique words\n",
        "\n",
        "# Step 2: Feature Extraction (simple word frequency)\n",
        "feature_vector = [words.count(word) for word in unique_words]\n",
        "feature_vector = np.array(feature_vector, dtype=float)\n",
        "feature_vector /= np.linalg.norm(feature_vector)  # Normalize the vector\n",
        "\n",
        "# Step 3: Hamiltonian Ansatz Encoding\n",
        "num_qubits = len(feature_vector)\n",
        "params = ParameterVector('θ', num_qubits)\n",
        "\n",
        "# Create a quantum circuit\n",
        "circuit = QuantumCircuit(num_qubits)\n",
        "\n",
        "# Apply parameterized rotation gates (e.g., RY gates)\n",
        "for i in range(num_qubits):\n",
        "    circuit.ry(params[i], i)\n",
        "\n",
        "# Add entangling gates (e.g., CNOTs in a linear chain)\n",
        "for i in range(num_qubits - 1):\n",
        "    circuit.cx(i, i + 1)\n",
        "\n",
        "# Bind the parameters to the feature vector\n",
        "bound_circuit = circuit.assign_parameters({params[i]: feature_vector[i] for i in range(num_qubits)})\n",
        "\n",
        "# Step 4: Execute the circuit to get the quantum state\n",
        "simulator = AerSimulator(method='statevector')\n",
        "result = simulator.run(bound_circuit).result()\n",
        "statevector = result.get_statevector()\n",
        "\n",
        "print(\"Quantum state:\", statevector)"
      ],
      "metadata": {
        "colab": {
          "base_uri": "https://localhost:8080/",
          "height": 541
        },
        "id": "8_qnOzKa1xHf",
        "outputId": "9315d8f6-b8d7-40cf-9c50-1c163ac3b9c7"
      },
      "execution_count": 1,
      "outputs": [
        {
          "output_type": "error",
          "ename": "ImportError",
          "evalue": "Qiskit is installed in an invalid environment that has both Qiskit >=1.0 and an earlier version. You should create a new virtual environment, and ensure that you do not mix dependencies between Qiskit <1.0 and >=1.0. Any packages that depend on 'qiskit-terra' are not compatible with Qiskit 1.0 and will need to be updated. Qiskit unfortunately cannot enforce this requirement during environment resolution. See https://qisk.it/packaging-1-0 for more detail.",
          "traceback": [
            "\u001b[0;31m---------------------------------------------------------------------------\u001b[0m",
            "\u001b[0;31mImportError\u001b[0m                               Traceback (most recent call last)",
            "\u001b[0;32m<ipython-input-1-4d7e761c317e>\u001b[0m in \u001b[0;36m<cell line: 0>\u001b[0;34m()\u001b[0m\n\u001b[1;32m      1\u001b[0m \u001b[0;32mimport\u001b[0m \u001b[0mnumpy\u001b[0m \u001b[0;32mas\u001b[0m \u001b[0mnp\u001b[0m\u001b[0;34m\u001b[0m\u001b[0;34m\u001b[0m\u001b[0m\n\u001b[0;32m----> 2\u001b[0;31m \u001b[0;32mfrom\u001b[0m \u001b[0mqiskit\u001b[0m \u001b[0;32mimport\u001b[0m \u001b[0mQuantumCircuit\u001b[0m\u001b[0;34m\u001b[0m\u001b[0;34m\u001b[0m\u001b[0m\n\u001b[0m\u001b[1;32m      3\u001b[0m \u001b[0;32mfrom\u001b[0m \u001b[0mqiskit\u001b[0m\u001b[0;34m.\u001b[0m\u001b[0mcircuit\u001b[0m \u001b[0;32mimport\u001b[0m \u001b[0mParameterVector\u001b[0m\u001b[0;34m\u001b[0m\u001b[0;34m\u001b[0m\u001b[0m\n\u001b[1;32m      4\u001b[0m \u001b[0;32mfrom\u001b[0m \u001b[0mqiskit_aer\u001b[0m \u001b[0;32mimport\u001b[0m \u001b[0mAerSimulator\u001b[0m\u001b[0;34m\u001b[0m\u001b[0;34m\u001b[0m\u001b[0m\n\u001b[1;32m      5\u001b[0m \u001b[0;34m\u001b[0m\u001b[0m\n",
            "\u001b[0;32m/usr/local/lib/python3.11/dist-packages/qiskit/__init__.py\u001b[0m in \u001b[0;36m<module>\u001b[0;34m\u001b[0m\n\u001b[1;32m     34\u001b[0m     \u001b[0m_suppress_error\u001b[0m \u001b[0;34m=\u001b[0m \u001b[0mos\u001b[0m\u001b[0;34m.\u001b[0m\u001b[0menviron\u001b[0m\u001b[0;34m.\u001b[0m\u001b[0mget\u001b[0m\u001b[0;34m(\u001b[0m\u001b[0;34m\"QISKIT_SUPPRESS_1_0_IMPORT_ERROR\"\u001b[0m\u001b[0;34m,\u001b[0m \u001b[0;32mFalse\u001b[0m\u001b[0;34m)\u001b[0m \u001b[0;34m==\u001b[0m \u001b[0;34m\"1\"\u001b[0m\u001b[0;34m\u001b[0m\u001b[0;34m\u001b[0m\u001b[0m\n\u001b[1;32m     35\u001b[0m     \u001b[0;32mif\u001b[0m \u001b[0;32mnot\u001b[0m \u001b[0m_suppress_error\u001b[0m \u001b[0;32mand\u001b[0m \u001b[0m_has_tools\u001b[0m\u001b[0;34m:\u001b[0m\u001b[0;34m\u001b[0m\u001b[0;34m\u001b[0m\u001b[0m\n\u001b[0;32m---> 36\u001b[0;31m         raise ImportError(\n\u001b[0m\u001b[1;32m     37\u001b[0m             \u001b[0;34m\"Qiskit is installed in an invalid environment that has both Qiskit >=1.0\"\u001b[0m\u001b[0;34m\u001b[0m\u001b[0;34m\u001b[0m\u001b[0m\n\u001b[1;32m     38\u001b[0m             \u001b[0;34m\" and an earlier version.\"\u001b[0m\u001b[0;34m\u001b[0m\u001b[0;34m\u001b[0m\u001b[0m\n",
            "\u001b[0;31mImportError\u001b[0m: Qiskit is installed in an invalid environment that has both Qiskit >=1.0 and an earlier version. You should create a new virtual environment, and ensure that you do not mix dependencies between Qiskit <1.0 and >=1.0. Any packages that depend on 'qiskit-terra' are not compatible with Qiskit 1.0 and will need to be updated. Qiskit unfortunately cannot enforce this requirement during environment resolution. See https://qisk.it/packaging-1-0 for more detail.",
            "",
            "\u001b[0;31m---------------------------------------------------------------------------\u001b[0;32m\nNOTE: If your import is failing due to a missing package, you can\nmanually install dependencies using either !pip or !apt.\n\nTo view examples of installing some common dependencies, click the\n\"Open Examples\" button below.\n\u001b[0;31m---------------------------------------------------------------------------\u001b[0m\n"
          ],
          "errorDetails": {
            "actions": [
              {
                "action": "open_url",
                "actionText": "Open Examples",
                "url": "/notebooks/snippets/importing_libraries.ipynb"
              }
            ]
          }
        }
      ]
    },
    {
      "cell_type": "markdown",
      "source": [
        "Basis Coding"
      ],
      "metadata": {
        "id": "v62Rb5kF3KFa"
      }
    },
    {
      "cell_type": "code",
      "source": [
        "from qiskit import QuantumCircuit\n",
        "\n",
        "# Create a 1-qubit circuit for basis encoding\n",
        "qc_basis = QuantumCircuit(1)\n",
        "\n",
        "# For classical bit 1, apply the X gate to flip |0⟩ to |1⟩\n",
        "qc_basis.x(0)\n",
        "\n",
        "# Visualize the circuit\n",
        "print(qc_basis.draw(output='text'))\n"
      ],
      "metadata": {
        "colab": {
          "base_uri": "https://localhost:8080/",
          "height": 384
        },
        "id": "2lgiqmL23JSl",
        "outputId": "d3695ab6-2e2c-44e6-9c66-4b0586204c1d"
      },
      "execution_count": 6,
      "outputs": [
        {
          "output_type": "error",
          "ename": "ImportError",
          "evalue": "cannot import name 'QuantumCircuit' from 'qiskit' (unknown location)",
          "traceback": [
            "\u001b[0;31m---------------------------------------------------------------------------\u001b[0m",
            "\u001b[0;31mImportError\u001b[0m                               Traceback (most recent call last)",
            "\u001b[0;32m<ipython-input-6-226d26af5800>\u001b[0m in \u001b[0;36m<cell line: 0>\u001b[0;34m()\u001b[0m\n\u001b[0;32m----> 1\u001b[0;31m \u001b[0;32mfrom\u001b[0m \u001b[0mqiskit\u001b[0m \u001b[0;32mimport\u001b[0m \u001b[0mQuantumCircuit\u001b[0m\u001b[0;34m\u001b[0m\u001b[0;34m\u001b[0m\u001b[0m\n\u001b[0m\u001b[1;32m      2\u001b[0m \u001b[0;34m\u001b[0m\u001b[0m\n\u001b[1;32m      3\u001b[0m \u001b[0;31m# Create a 1-qubit circuit for basis encoding\u001b[0m\u001b[0;34m\u001b[0m\u001b[0;34m\u001b[0m\u001b[0m\n\u001b[1;32m      4\u001b[0m \u001b[0mqc_basis\u001b[0m \u001b[0;34m=\u001b[0m \u001b[0mQuantumCircuit\u001b[0m\u001b[0;34m(\u001b[0m\u001b[0;36m1\u001b[0m\u001b[0;34m)\u001b[0m\u001b[0;34m\u001b[0m\u001b[0;34m\u001b[0m\u001b[0m\n\u001b[1;32m      5\u001b[0m \u001b[0;34m\u001b[0m\u001b[0m\n",
            "\u001b[0;31mImportError\u001b[0m: cannot import name 'QuantumCircuit' from 'qiskit' (unknown location)",
            "",
            "\u001b[0;31m---------------------------------------------------------------------------\u001b[0;32m\nNOTE: If your import is failing due to a missing package, you can\nmanually install dependencies using either !pip or !apt.\n\nTo view examples of installing some common dependencies, click the\n\"Open Examples\" button below.\n\u001b[0;31m---------------------------------------------------------------------------\u001b[0m\n"
          ],
          "errorDetails": {
            "actions": [
              {
                "action": "open_url",
                "actionText": "Open Examples",
                "url": "/notebooks/snippets/importing_libraries.ipynb"
              }
            ]
          }
        }
      ]
    },
    {
      "cell_type": "markdown",
      "source": [
        "# Amplitude Encoding"
      ],
      "metadata": {
        "id": "qhrkqRA83V5s"
      }
    },
    {
      "cell_type": "code",
      "source": [
        "from qiskit import QuantumCircuit\n",
        "\n",
        "# Define a normalized classical vector (0.6^2 + 0.8^2 = 1)\n",
        "vector = [0.6, 0.8]\n",
        "\n",
        "# Create a 1-qubit circuit\n",
        "qc_amplitude = QuantumCircuit(1)\n",
        "\n",
        "# Use the initialize method to encode the vector\n",
        "qc_amplitude.initialize(vector, 0)\n",
        "\n",
        "# Visualize the circuit\n",
        "print(qc_amplitude.draw(output='text'))\n"
      ],
      "metadata": {
        "id": "uZGwG1y53T6h"
      },
      "execution_count": null,
      "outputs": []
    },
    {
      "cell_type": "markdown",
      "source": [
        "# Phase/Angle Encoding"
      ],
      "metadata": {
        "id": "FarolJbw3Zah"
      }
    },
    {
      "cell_type": "code",
      "source": [
        "from qiskit import QuantumCircuit\n",
        "import numpy as np\n",
        "\n",
        "# Define a classical value to encode (e.g., π/4)\n",
        "theta = np.pi / 4\n",
        "\n",
        "# Create a 1-qubit circuit\n",
        "qc_angle = QuantumCircuit(1)\n",
        "\n",
        "# Encode the value using an R_y rotation (the factor 2 scales the angle appropriately)\n",
        "qc_angle.ry(2 * theta, 0)\n",
        "\n",
        "# Visualize the circuit\n",
        "print(qc_angle.draw(output='text'))\n"
      ],
      "metadata": {
        "id": "s_1loqOm3dtg"
      },
      "execution_count": null,
      "outputs": []
    },
    {
      "cell_type": "markdown",
      "source": [
        "# Q‑Sample Encoding"
      ],
      "metadata": {
        "id": "8Hh8jJwH3ggZ"
      }
    },
    {
      "cell_type": "code",
      "source": [
        "from qiskit import QuantumCircuit\n",
        "\n",
        "# Define a classical sample vector of length 4 (should be normalized)\n",
        "sample = [0.5, 0.5, 0.5, 0.5]\n",
        "\n",
        "# Create a 2-qubit circuit for Q-sample encoding\n",
        "qc_qsample = QuantumCircuit(2)\n",
        "\n",
        "# Initialize the 2-qubit register with the sample\n",
        "qc_qsample.initialize(sample, [0, 1])\n",
        "\n",
        "# Visualize the circuit\n",
        "print(qc_qsample.draw(output='text'))\n"
      ],
      "metadata": {
        "id": "BKMjixm23oOu"
      },
      "execution_count": null,
      "outputs": []
    },
    {
      "cell_type": "markdown",
      "source": [
        "# Quantum Amplitude Modulation (QuAM) as Associative Memory"
      ],
      "metadata": {
        "id": "0no_t5_23qls"
      }
    },
    {
      "cell_type": "code",
      "source": [
        "from qiskit import QuantumCircuit\n",
        "\n",
        "# Define a state vector where the amplitude of |00⟩ is 0.6 and |11⟩ is 0.8.\n",
        "# The ordering is: |00⟩, |01⟩, |10⟩, |11⟩.\n",
        "pattern_state = [0.6, 0.0, 0.0, 0.8]\n",
        "\n",
        "# Create a 2-qubit circuit for QuAM encoding\n",
        "qc_quam = QuantumCircuit(2)\n",
        "\n",
        "# Initialize the 2-qubit state with the given pattern\n",
        "qc_quam.initialize(pattern_state, [0, 1])\n",
        "\n",
        "# Visualize the circuit\n",
        "print(qc_quam.draw(output='text'))\n"
      ],
      "metadata": {
        "id": "fALjlT7j3sdr"
      },
      "execution_count": null,
      "outputs": []
    },
    {
      "cell_type": "markdown",
      "source": [
        "# Repeated Amplitude Encoding"
      ],
      "metadata": {
        "id": "1Tfsqqve3ujO"
      }
    },
    {
      "cell_type": "code",
      "source": [
        "import numpy as np\n",
        "from qiskit import QuantumCircuit\n",
        "\n",
        "# Define the single-qubit state vector for [0.6, 0.8]\n",
        "single_state = np.array([0.6, 0.8])\n",
        "\n",
        "# Compute the tensor product to get the state for two qubits:\n",
        "# This represents (0.6|0⟩ + 0.8|1⟩) ⊗ (0.6|0⟩ + 0.8|1⟩)\n",
        "redundant_state = np.kron(single_state, single_state)\n",
        "\n",
        "# Create a 2-qubit circuit for repeated amplitude encoding\n",
        "qc_repeated = QuantumCircuit(2)\n",
        "\n",
        "# Initialize the 2-qubit register with the tensor product state\n",
        "qc_repeated.initialize(redundant_state, [0, 1])\n",
        "\n",
        "# Visualize the circuit\n",
        "print(qc_repeated.draw(output='text'))\n"
      ],
      "metadata": {
        "id": "GpQYUNsD3vr7"
      },
      "execution_count": null,
      "outputs": []
    }
  ]
}